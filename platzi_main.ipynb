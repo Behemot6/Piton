{
 "metadata": {
  "language_info": {
   "codemirror_mode": {
    "name": "ipython",
    "version": 3
   },
   "file_extension": ".py",
   "mimetype": "text/x-python",
   "name": "python",
   "nbconvert_exporter": "python",
   "pygments_lexer": "ipython3",
   "version": "3.7.4-final"
  },
  "orig_nbformat": 2,
  "kernelspec": {
   "name": "python3",
   "display_name": "Python 3"
  }
 },
 "nbformat": 4,
 "nbformat_minor": 2,
 "cells": [
  {
   "cell_type": "code",
   "execution_count": 1,
   "metadata": {},
   "outputs": [],
   "source": [
    "import import_ipynb"
   ]
  },
  {
   "cell_type": "code",
   "execution_count": 2,
   "metadata": {
    "tags": []
   },
   "outputs": [
    {
     "output_type": "stream",
     "name": "stdout",
     "text": "importing Jupyter notebook from Platzi_Lamp.ipynb\n"
    }
   ],
   "source": [
    "from Platzi_Lamp import Lamp"
   ]
  },
  {
   "cell_type": "code",
   "execution_count": 3,
   "metadata": {},
   "outputs": [],
   "source": [
    "\n",
    "def run():\n",
    "    lamp = Lamp(is_turned_on = True)\n",
    "\n",
    "    while True:\n",
    "        command = input('''\n",
    "            Escribe que quieres hacer:\n",
    "            [e]ncender\n",
    "            [a]pagar\n",
    "            [c]onsultar\n",
    "            [s]alir\"\n",
    "        ''')\n",
    "        \n",
    "            \n",
    "        if command == 'e':\n",
    "            lamp.turn_on()\n",
    "        elif command == 'a':\n",
    "            lamp.turn_off()\n",
    "        elif command == 'c':\n",
    "            lamp._display_image\n",
    "        elif command == 's':\n",
    "            break\n"
   ]
  },
  {
   "cell_type": "code",
   "execution_count": 4,
   "metadata": {
    "tags": []
   },
   "outputs": [
    {
     "output_type": "stream",
     "name": "stdout",
     "text": "\n          .\n     .    |    ,\n      \\   '   /\n       ` ,-. '\n    --- (o o) ---\n         \\O/\n        _|=|_\n       |_____|\n    \n\n         ,-.\n        (- -)\n         \\*/\n        _|=|_\n       |_____|\n    \n"
    }
   ],
   "source": [
    "run()"
   ]
  },
  {
   "cell_type": "code",
   "execution_count": null,
   "metadata": {},
   "outputs": [],
   "source": []
  }
 ]
}