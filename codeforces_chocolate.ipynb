{
 "metadata": {
  "language_info": {
   "codemirror_mode": {
    "name": "ipython",
    "version": 3
   },
   "file_extension": ".py",
   "mimetype": "text/x-python",
   "name": "python",
   "nbconvert_exporter": "python",
   "pygments_lexer": "ipython3",
   "version": "3.7.4-final"
  },
  "orig_nbformat": 2,
  "kernelspec": {
   "name": "python3",
   "display_name": "Python 3"
  }
 },
 "nbformat": 4,
 "nbformat_minor": 2,
 "cells": [
  {
   "cell_type": "code",
   "execution_count": 49,
   "metadata": {
    "tags": []
   },
   "outputs": [
    {
     "output_type": "stream",
     "name": "stdout",
     "text": "5\n"
    }
   ],
   "source": [
    "n = int(input('Cuantas marcas de chocolate hay?'))\n",
    "marcas = []\n",
    "for i in range(0,n):\n",
    "    marca = int(input('Cuantos chocolates disponen de la marca \"{}\" ?\"'.format(i)))\n",
    "    marcas.append(marca)\n",
    "sumatoria = []\n",
    "for y in range(0,n):\n",
    "    sumar = []\n",
    "    lista_provicinal = []\n",
    "    posicion = -1\n",
    "    for x in reversed(marcas):\n",
    "        if sumar == [] or x < sumar[posicion]:\n",
    "            sumar.append(x)\n",
    "        else:\n",
    "            if sumar[posicion] == 0:\n",
    "                sumar.append(0)\n",
    "            else:\n",
    "                sumar.append(sumar[posicion]-1)\n",
    "        posicion = posicion +1\n",
    "    sumatoria.append(sum(sumar))\n",
    "    guardadito = marcas[0]\n",
    "    marcas= marcas[1:]\n",
    "    marcas.append(guardadito)\n",
    "print(max(sumatoria))"
   ]
  },
  {
   "cell_type": "code",
   "execution_count": null,
   "metadata": {},
   "outputs": [],
   "source": []
  }
 ]
}