{
 "metadata": {
  "language_info": {
   "codemirror_mode": {
    "name": "ipython",
    "version": 3
   },
   "file_extension": ".py",
   "mimetype": "text/x-python",
   "name": "python",
   "nbconvert_exporter": "python",
   "pygments_lexer": "ipython3",
   "version": "3.7.4-final"
  },
  "orig_nbformat": 2,
  "kernelspec": {
   "name": "python3",
   "display_name": "Python 3"
  }
 },
 "nbformat": 4,
 "nbformat_minor": 2,
 "cells": [
  {
   "cell_type": "code",
   "execution_count": 3,
   "metadata": {},
   "outputs": [],
   "source": [
    "def protected(func):\n",
    "    def wrapper(password):\n",
    "        if password == 'platzi':\n",
    "            return func()\n",
    "        else:\n",
    "            print('La contraseña es incorrecta')\n",
    "    return wrapper\n",
    "\n",
    "@protected\n",
    "def protected_func():\n",
    "    print('Tu contraseña es correcta')"
   ]
  },
  {
   "cell_type": "code",
   "execution_count": 6,
   "metadata": {
    "tags": []
   },
   "outputs": [
    {
     "output_type": "stream",
     "name": "stdout",
     "text": "La contraseña es incorrecta\n"
    }
   ],
   "source": [
    "password = str(input('Escribe tucontraseña: '))\n",
    "\n",
    "protected_func(password)"
   ]
  },
  {
   "cell_type": "code",
   "execution_count": null,
   "metadata": {},
   "outputs": [],
   "source": []
  }
 ]
}