{
 "metadata": {
  "language_info": {
   "codemirror_mode": {
    "name": "ipython",
    "version": 3
   },
   "file_extension": ".py",
   "mimetype": "text/x-python",
   "name": "python",
   "nbconvert_exporter": "python",
   "pygments_lexer": "ipython3",
   "version": "3.7.4-final"
  },
  "orig_nbformat": 2,
  "kernelspec": {
   "name": "python3",
   "display_name": "Python 3"
  }
 },
 "nbformat": 4,
 "nbformat_minor": 2,
 "cells": [
  {
   "cell_type": "code",
   "execution_count": 1,
   "metadata": {
    "tags": []
   },
   "outputs": [
    {
     "output_type": "stream",
     "name": "stdout",
     "text": "8\n"
    }
   ],
   "source": [
    "print(8)"
   ]
  },
  {
   "cell_type": "code",
   "execution_count": 2,
   "metadata": {},
   "outputs": [
    {
     "output_type": "stream",
     "text": "\u001b[1;31mSignature:\u001b[0m \u001b[0mlen\u001b[0m\u001b[1;33m(\u001b[0m\u001b[0mobj\u001b[0m\u001b[1;33m,\u001b[0m \u001b[1;33m/\u001b[0m\u001b[1;33m)\u001b[0m\u001b[1;33m\u001b[0m\u001b[1;33m\u001b[0m\u001b[0m\n\u001b[1;31mDocstring:\u001b[0m Return the number of items in a container.\n\u001b[1;31mType:\u001b[0m      builtin_function_or_method\n"
    }
   ],
   "source": [
    "len?"
   ]
  },
  {
   "cell_type": "code",
   "execution_count": 3,
   "metadata": {},
   "outputs": [],
   "source": [
    "lista = [1,2]"
   ]
  },
  {
   "cell_type": "code",
   "execution_count": 4,
   "metadata": {},
   "outputs": [
    {
     "output_type": "stream",
     "text": "\u001b[1;31mType:\u001b[0m        list\n\u001b[1;31mString form:\u001b[0m [1, 2]\n\u001b[1;31mLength:\u001b[0m      2\n\u001b[1;31mDocstring:\u001b[0m  \nBuilt-in mutable sequence.\n\nIf no argument is given, the constructor creates a new empty list.\nThe argument must be an iterable if specified.\n"
    }
   ],
   "source": [
    "lista??"
   ]
  },
  {
   "cell_type": "code",
   "execution_count": 5,
   "metadata": {},
   "outputs": [
    {
     "output_type": "stream",
     "text": "\u001b[1;31mDocstring:\u001b[0m\nRun the named file inside IPython as a program.\n\nUsage::\n\n  %run [-n -i -e -G]\n       [( -t [-N<N>] | -d [-b<N>] | -p [profile options] )]\n       ( -m mod | file ) [args]\n\nParameters after the filename are passed as command-line arguments to\nthe program (put in sys.argv). Then, control returns to IPython's\nprompt.\n\nThis is similar to running at a system prompt ``python file args``,\nbut with the advantage of giving you IPython's tracebacks, and of\nloading all variables into your interactive namespace for further use\n(unless -p is used, see below).\n\nThe file is executed in a namespace initially consisting only of\n``__name__=='__main__'`` and sys.argv constructed as indicated. It thus\nsees its environment as if it were being run as a stand-alone program\n(except for sharing global objects such as previously imported\nmodules). But after execution, the IPython interactive namespace gets\nupdated with all variables defined in the program (except for __name__\nand sys.argv). This allows for very convenient loading of code for\ninteractive work, while giving each program a 'clean sheet' to run in.\n\nArguments are expanded using shell-like glob match.  Patterns\n'*', '?', '[seq]' and '[!seq]' can be used.  Additionally,\ntilde '~' will be expanded into user's home directory.  Unlike\nreal shells, quotation does not suppress expansions.  Use\n*two* back slashes (e.g. ``\\\\*``) to suppress expansions.\nTo completely disable these expansions, you can use -G flag.\n\nOn Windows systems, the use of single quotes `'` when specifying \na file is not supported. Use double quotes `\"`.\n\nOptions:\n\n-n\n  __name__ is NOT set to '__main__', but to the running file's name\n  without extension (as python does under import).  This allows running\n  scripts and reloading the definitions in them without calling code\n  protected by an ``if __name__ == \"__main__\"`` clause.\n\n-i\n  run the file in IPython's namespace instead of an empty one. This\n  is useful if you are experimenting with code written in a text editor\n  which depends on variables defined interactively.\n\n-e\n  ignore sys.exit() calls or SystemExit exceptions in the script\n  being run.  This is particularly useful if IPython is being used to\n  run unittests, which always exit with a sys.exit() call.  In such\n  cases you are interested in the output of the test results, not in\n  seeing a traceback of the unittest module.\n\n-t\n  print timing information at the end of the run.  IPython will give\n  you an estimated CPU time consumption for your script, which under\n  Unix uses the resource module to avoid the wraparound problems of\n  time.clock().  Under Unix, an estimate of time spent on system tasks\n  is also given (for Windows platforms this is reported as 0.0).\n\nIf -t is given, an additional ``-N<N>`` option can be given, where <N>\nmust be an integer indicating how many times you want the script to\nrun.  The final timing report will include total and per run results.\n\nFor example (testing the script uniq_stable.py)::\n\n    In [1]: run -t uniq_stable\n\n    IPython CPU timings (estimated):\n      User  :    0.19597 s.\n      System:        0.0 s.\n\n    In [2]: run -t -N5 uniq_stable\n\n    IPython CPU timings (estimated):\n    Total runs performed: 5\n      Times :      Total       Per run\n      User  :   0.910862 s,  0.1821724 s.\n      System:        0.0 s,        0.0 s.\n\n-d\n  run your program under the control of pdb, the Python debugger.\n  This allows you to execute your program step by step, watch variables,\n  etc.  Internally, what IPython does is similar to calling::\n\n      pdb.run('execfile(\"YOURFILENAME\")')\n\n  with a breakpoint set on line 1 of your file.  You can change the line\n  number for this automatic breakpoint to be <N> by using the -bN option\n  (where N must be an integer). For example::\n\n      %run -d -b40 myscript\n\n  will set the first breakpoint at line 40 in myscript.py.  Note that\n  the first breakpoint must be set on a line which actually does\n  something (not a comment or docstring) for it to stop execution.\n\n  Or you can specify a breakpoint in a different file::\n\n      %run -d -b myotherfile.py:20 myscript\n\n  When the pdb debugger starts, you will see a (Pdb) prompt.  You must\n  first enter 'c' (without quotes) to start execution up to the first\n  breakpoint.\n\n  Entering 'help' gives information about the use of the debugger.  You\n  can easily see pdb's full documentation with \"import pdb;pdb.help()\"\n  at a prompt.\n\n-p\n  run program under the control of the Python profiler module (which\n  prints a detailed report of execution times, function calls, etc).\n\n  You can pass other options after -p which affect the behavior of the\n  profiler itself. See the docs for %prun for details.\n\n  In this mode, the program's variables do NOT propagate back to the\n  IPython interactive namespace (because they remain in the namespace\n  where the profiler executes them).\n\n  Internally this triggers a call to %prun, see its documentation for\n  details on the options available specifically for profiling.\n\nThere is one special usage for which the text above doesn't apply:\nif the filename ends with .ipy[nb], the file is run as ipython script,\njust as if the commands were written on IPython prompt.\n\n-m\n  specify module name to load instead of script path. Similar to\n  the -m option for the python interpreter. Use this option last if you\n  want to combine with other %run options. Unlike the python interpreter\n  only source modules are allowed no .pyc or .pyo files.\n  For example::\n\n      %run -m example\n\n  will run the example module.\n\n-G\n  disable shell-like glob expansion of arguments.\n\u001b[1;31mFile:\u001b[0m      c:\\users\\edgardo\\anaconda3\\lib\\site-packages\\ipython\\core\\magics\\execution.py\n"
    }
   ],
   "source": [
    "%run?"
   ]
  },
  {
   "cell_type": "code",
   "execution_count": 1,
   "metadata": {
    "tags": []
   },
   "outputs": [
    {
     "output_type": "stream",
     "name": "stdout",
     "text": "La poblacion de mexico es de 122 millones\n"
    },
    {
     "output_type": "error",
     "ename": "KeyError",
     "evalue": "''",
     "traceback": [
      "\u001b[1;31m---------------------------------------------------------------------------\u001b[0m",
      "\u001b[1;31mKeyError\u001b[0m                                  Traceback (most recent call last)",
      "\u001b[1;32mc:\\Users\\edgardo\\proyecto2\\piton\\errores.py\u001b[0m in \u001b[0;36m<module>\u001b[1;34m\u001b[0m\n\u001b[0;32m     11\u001b[0m \u001b[1;32mwhile\u001b[0m \u001b[1;32mTrue\u001b[0m\u001b[1;33m:\u001b[0m\u001b[1;33m\u001b[0m\u001b[1;33m\u001b[0m\u001b[0m\n\u001b[0;32m     12\u001b[0m     \u001b[0mcountry\u001b[0m \u001b[1;33m=\u001b[0m \u001b[0mstr\u001b[0m\u001b[1;33m(\u001b[0m\u001b[0minput\u001b[0m\u001b[1;33m(\u001b[0m\u001b[1;34m'Escribe el nombre de un pais'\u001b[0m\u001b[1;33m)\u001b[0m\u001b[1;33m)\u001b[0m\u001b[1;33m.\u001b[0m\u001b[0mlower\u001b[0m\u001b[1;33m(\u001b[0m\u001b[1;33m)\u001b[0m\u001b[1;33m\u001b[0m\u001b[1;33m\u001b[0m\u001b[0m\n\u001b[1;32m---> 13\u001b[1;33m     \u001b[0mprint\u001b[0m\u001b[1;33m(\u001b[0m\u001b[1;34m'La poblacion de {} es de {} millones'\u001b[0m\u001b[1;33m.\u001b[0m\u001b[0mformat\u001b[0m\u001b[1;33m(\u001b[0m\u001b[0mcountry\u001b[0m\u001b[1;33m,\u001b[0m \u001b[0mcountries\u001b[0m\u001b[1;33m[\u001b[0m\u001b[0mcountry\u001b[0m\u001b[1;33m]\u001b[0m\u001b[1;33m)\u001b[0m\u001b[1;33m)\u001b[0m\u001b[1;33m\u001b[0m\u001b[1;33m\u001b[0m\u001b[0m\n\u001b[0m",
      "\u001b[1;31mKeyError\u001b[0m: ''"
     ]
    }
   ],
   "source": [
    "%run errores.py"
   ]
  },
  {
   "cell_type": "code",
   "execution_count": 4,
   "metadata": {
    "tags": []
   },
   "outputs": [
    {
     "output_type": "stream",
     "name": "stdout",
     "text": "15\n"
    }
   ],
   "source": [
    "%run codeforces_chocolate.ipynb"
   ]
  },
  {
   "cell_type": "code",
   "execution_count": 7,
   "metadata": {
    "tags": []
   },
   "outputs": [
    {
     "output_type": "stream",
     "name": "stdout",
     "text": "126 ns ± 24.8 ns per loop (mean ± std. dev. of 7 runs, 10000000 loops each)\n"
    }
   ],
   "source": [
    "%timeit L = []\n",
    "for i in range(1,100):\n",
    "    L.append(i)"
   ]
  },
  {
   "cell_type": "code",
   "execution_count": null,
   "metadata": {},
   "outputs": [],
   "source": []
  }
 ]
}