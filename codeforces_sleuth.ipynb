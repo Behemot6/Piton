{
 "metadata": {
  "language_info": {
   "codemirror_mode": {
    "name": "ipython",
    "version": 3
   },
   "file_extension": ".py",
   "mimetype": "text/x-python",
   "name": "python",
   "nbconvert_exporter": "python",
   "pygments_lexer": "ipython3",
   "version": "3.7.4-final"
  },
  "orig_nbformat": 2,
  "kernelspec": {
   "name": "python3",
   "display_name": "Python 3"
  }
 },
 "nbformat": 4,
 "nbformat_minor": 2,
 "cells": [
  {
   "cell_type": "code",
   "execution_count": 143,
   "metadata": {
    "tags": []
   },
   "outputs": [],
   "source": [
    "def goto(linenum):\n",
    "    global line\n",
    "    line = linenum\n",
    "def sleuth():\n",
    "    vowels = ['a','e','i','o','u','y'] #Lista de vocales\n",
    "    word = str(input('Escribe tu pregunta: ')) #Pide la pregunta\n",
    "    listo=[]\n",
    "    ending=0\n",
    "    #Revisa si la pregunta es muy larga\n",
    "    while ending == 0:\n",
    "        ending = 1\n",
    "        if len(word) >= 100:\n",
    "            word = str(input('Escribe una pregunta mas corta: '))\n",
    "            ending = 0\n",
    "    #Revisa si la pregunta tiene numeros\n",
    "        listo = []\n",
    "        word_wo_space = word.replace(\" \",\"\")\n",
    "        for letter in word_wo_space:\n",
    "            listo.append(letter)\n",
    "        listo=sorted(listo)\n",
    "        try:\n",
    "            int(listo[0])\n",
    "        except:\n",
    "            pass\n",
    "        else:\n",
    "            word = str(input('Escribe una pregunta sin numeros: '))\n",
    "            ending = 0\n",
    "    #Revisa si tiene in signo de interrogacion sino se lo pone\n",
    "        if listo[0] != '?':\n",
    "            x='x'\n",
    "    #Revisa si la ultima letra de la pregunta es vocal o no\n",
    "    wordos = word[-2]\n",
    "    low = 0\n",
    "    high = int(len(vowels))-1\n",
    "    ans = 'No'\n",
    "    while True:\n",
    "        if high<low:\n",
    "            break\n",
    "        mid= int((low+high)/2)\n",
    "        if wordos==vowels[mid]:\n",
    "            ans = 'Yes'\n",
    "            break\n",
    "        elif wordos > vowels[mid]:\n",
    "            low = mid+1\n",
    "        elif wordos < vowels[mid]:\n",
    "            high = mid-1\n",
    "    return ans"
   ]
  },
  {
   "cell_type": "code",
   "execution_count": 145,
   "metadata": {},
   "outputs": [
    {
     "output_type": "execute_result",
     "data": {
      "text/plain": "'No'"
     },
     "metadata": {},
     "execution_count": 145
    }
   ],
   "source": [
    "sleuth()"
   ]
  }
 ]
}