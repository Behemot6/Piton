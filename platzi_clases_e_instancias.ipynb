{
 "metadata": {
  "language_info": {
   "codemirror_mode": {
    "name": "ipython",
    "version": 3
   },
   "file_extension": ".py",
   "mimetype": "text/x-python",
   "name": "python",
   "nbconvert_exporter": "python",
   "pygments_lexer": "ipython3",
   "version": "3.7.4-final"
  },
  "orig_nbformat": 2,
  "kernelspec": {
   "name": "python3",
   "display_name": "Python 3"
  }
 },
 "nbformat": 4,
 "nbformat_minor": 2,
 "cells": [
  {
   "cell_type": "code",
   "execution_count": 1,
   "metadata": {},
   "outputs": [],
   "source": [
    "class Persona():\n",
    "    def __init__(self, nombre, edad):\n",
    "        self.nombre = nombre\n",
    "        self.edad = edad\n",
    "    def saludar(self, otra_persona):\n",
    "        return ('Hola {} soy {}'.format(otra_persona.nombre, self.nombre))"
   ]
  },
  {
   "cell_type": "code",
   "execution_count": 3,
   "metadata": {},
   "outputs": [
    {
     "output_type": "execute_result",
     "data": {
      "text/plain": "'Hola Monica soy Edgardo'"
     },
     "metadata": {},
     "execution_count": 3
    }
   ],
   "source": [
    "edgardo = Persona('Edgardo', 25)\n",
    "monica = Persona('Monica',24)\n",
    "\n",
    "edgardo.saludar(monica)"
   ]
  },
  {
   "cell_type": "code",
   "execution_count": 7,
   "metadata": {},
   "outputs": [],
   "source": [
    "class Coordenada:\n",
    "\n",
    "    def __init__(self, x, y):\n",
    "        self.x = x\n",
    "        self.y = y\n",
    "\n",
    "    def distancia(self, otra_coordendada):\n",
    "        x_diff = (self.x - otra_coordendada.x)**2\n",
    "        y_diff = (self.y - otra_coordendada.y)**2\n",
    "\n",
    "        return (x_diff + y_diff)**0.5\n"
   ]
  },
  {
   "cell_type": "code",
   "execution_count": 13,
   "metadata": {
    "tags": []
   },
   "outputs": [
    {
     "output_type": "stream",
     "name": "stdout",
     "text": "22.02271554554524 True\n"
    }
   ],
   "source": [
    "if __name__ == '__main__':\n",
    "    coord_1 = Coordenada(3, 30)\n",
    "    coord_2 = Coordenada(4, 8)\n",
    "\n",
    "    print((coord_1.distancia(coord_2)),(isinstance(coord_1, Coordenada)))"
   ]
  },
  {
   "cell_type": "code",
   "execution_count": null,
   "metadata": {},
   "outputs": [],
   "source": []
  }
 ]
}