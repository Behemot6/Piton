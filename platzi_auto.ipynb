{
 "metadata": {
  "language_info": {
   "codemirror_mode": {
    "name": "ipython",
    "version": 3
   },
   "file_extension": ".py",
   "mimetype": "text/x-python",
   "name": "python",
   "nbconvert_exporter": "python",
   "pygments_lexer": "ipython3",
   "version": "3.7.4-final"
  },
  "orig_nbformat": 2,
  "kernelspec": {
   "name": "python3",
   "display_name": "Python 3"
  }
 },
 "nbformat": 4,
 "nbformat_minor": 2,
 "cells": [
  {
   "cell_type": "code",
   "execution_count": 6,
   "metadata": {},
   "outputs": [],
   "source": [
    "class Automovil():\n",
    "    def __init__(self, modelo, marca, color):\n",
    "        self.modelo = modelo\n",
    "        self.marca = marca\n",
    "        self.color = color\n",
    "        self._estado = 'en_reposo'\n",
    "        self._motor = Motor(cilindros=4)\n",
    "    def acelerar(self, tipo = 'despacio'):\n",
    "        if tipo == 'rapida':\n",
    "            self._motor.inyecta_gasolina(10)\n",
    "        else:\n",
    "            self._motor.inyecta_gasolina(3)\n",
    "        self._estado = 'en_movimiento'\n",
    "\n",
    "class Motor():\n",
    "    def __init__(self, cilindros, tipo = 'gasolina', higiene = 'limpio'):\n",
    "        self.cilindros = cilindros\n",
    "        self.tipo = tipo\n",
    "        self._temperatura = 0\n",
    "        self._higiene = higiene\n",
    "    def inyecta_gasolina(self, cantidad):\n",
    "        if estado == 'sucio':\n",
    "            cantidad = cantidad * 2\n",
    "        inyeccion = cantidad * -1\n",
    "        Tanque_de_gas.cambio_cantidad(inyeccion)\n",
    "\n",
    "class Tanque_de_gas():\n",
    "    def __init__(self, cantidad, cantidad_max = 50):\n",
    "        self.cantidad = cantidad\n",
    "        self.cantidad_max = cantidad_max\n",
    "    def cambio_cantidad(self, cantidad_de_cambio):\n",
    "        cantidad = cantidad + cantidad_de_cambio\n",
    "        if cantidad > cantidad_max:\n",
    "            cantidad = cantidad_max\n",
    "        elif cantidad < 0:\n",
    "            cantidad = 0\n",
    "class Panel():\n",
    "    def __init__ (self,foquito1, foquito2):\n",
    "        self.foquito1 = 'Apagado'\n",
    "        self.foquito2 = 'Apagado'\n",
    "    def aviso_gas(self, cantidad_tanque):\n",
    "        if cantidad_tanque < 10 and cantidad_tanque >0:\n",
    "            self.foquito1 = 'Encendido'\n",
    "            return ('Aviso, se queda sin gas')\n",
    "        elif cantidad_tanque == 0:\n",
    "            self.foquito2 = 'Encendido'\n",
    "            return('Ya valio verga')\n",
    "\n"
   ]
  }
 ]
}