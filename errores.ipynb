{
 "cells": [
  {
   "cell_type": "code",
   "execution_count": null,
   "metadata": {},
   "outputs": [],
   "source": [
    "countries = {\n",
    "    'mexico' : 122,\n",
    "    'colombia': 49,\n",
    "    'argentina': 43,\n",
    "    'chile': 18,\n",
    "    'peru' : 31\n",
    "}\n",
    "\n",
    "while True:\n",
    "    country = str(input('Escribe el nombre de un pais')).lower()\n",
    "    try:\n",
    "        print('La poblacion de {} es de {} millones'.format(country, countries[country]))\n",
    "    except KeyError:\n",
    "        print('No tenemos el dato de la poblacion de {} '.format(country)       )\n"
   ]
  },
  {
   "cell_type": "code",
   "execution_count": null,
   "metadata": {},
   "outputs": [],
   "source": []
  },
  {
   "cell_type": "code",
   "execution_count": null,
   "metadata": {},
   "outputs": [],
   "source": []
  }
 ],
 "metadata": {
  "kernelspec": {
   "display_name": "Python 3",
   "language": "python",
   "name": "python3"
  },
  "language_info": {
   "codemirror_mode": {
    "name": "ipython",
    "version": 3
   },
   "file_extension": ".py",
   "mimetype": "text/x-python",
   "name": "python",
   "nbconvert_exporter": "python",
   "pygments_lexer": "ipython3",
   "version": "3.7.4"
  }
 },
 "nbformat": 4,
 "nbformat_minor": 2
}
