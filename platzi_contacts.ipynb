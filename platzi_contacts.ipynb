{
 "metadata": {
  "language_info": {
   "codemirror_mode": {
    "name": "ipython",
    "version": 3
   },
   "file_extension": ".py",
   "mimetype": "text/x-python",
   "name": "python",
   "nbconvert_exporter": "python",
   "pygments_lexer": "ipython3",
   "version": "3.7.4-final"
  },
  "orig_nbformat": 2,
  "kernelspec": {
   "name": "python3",
   "display_name": "Python 3"
  }
 },
 "nbformat": 4,
 "nbformat_minor": 2,
 "cells": [
  {
   "cell_type": "code",
   "execution_count": 22,
   "metadata": {},
   "outputs": [],
   "source": [
    "import csv"
   ]
  },
  {
   "cell_type": "code",
   "execution_count": 28,
   "metadata": {},
   "outputs": [],
   "source": [
    "class Contact:\n",
    "\n",
    "    def __init__(self, name, phone, email):\n",
    "        self.name = name\n",
    "        self.phone = phone\n",
    "        self.email = email\n",
    "\n",
    "class ContactBook:\n",
    "    def __init__(self):\n",
    "        self._contacs = []\n",
    "    def add(self, name, phone, email):\n",
    "        contact = Contact(name,phone,email)\n",
    "        self._contacs.append(contact)\n",
    "\n",
    "    def show_all(self):\n",
    "        for con in self._contacs:\n",
    "            self._print_contact(con)\n",
    "    def _print_contact(self, contact):\n",
    "        print('--- * --- * --- * --- * --- * --- * --- * ---')\n",
    "        print('Nombre: {}'.format(contact.name))\n",
    "        print('Teléfono: {}'.format(contact.phone))\n",
    "        print('Email: {}'.format(contact.email))\n",
    "        print('--- * --- * --- * --- * --- * --- * --- * ---')\n",
    "    def delete(self, name):\n",
    "        for idx, contact in enumerate(self._contacs):\n",
    "            if contact.name.lower() == name.lower():\n",
    "                del self._contacs[idx]\n",
    "                break\n",
    "    def search(self, name):\n",
    "        for contact in self._contacs:\n",
    "            if contact.name.lower() == name.lower():\n",
    "                self._print_contact(contact)\n",
    "                break\n",
    "        else:\n",
    "            self._not_found()\n",
    "\n",
    "    def _not_found(self):\n",
    "        print('************')\n",
    "        print('No estaba, ya busque')           \n",
    "        print('************')\n",
    "    def update(self, cambio):\n",
    "        for con in self._contacs:\n",
    "            if str(cambio) == str(con.name):\n",
    "                con.name = str(input('Escribe el NUEVO nombre del contacto'))\n",
    "                con.phone = str(input('Escribe el NUEVO numero del contacto'))\n",
    "                con.email = str(input('Escribe el NUEVO correo del contacto'))\n",
    "                break\n",
    "        else:\n",
    "            self._not_found()\n",
    "    def save (self):\n",
    "        with open('contacts.csv', 'w') as f:\n",
    "            writer = csv.writer(f)\n",
    "            writer.writerow( ('name','phone', 'email') )\n",
    "            for con in self._contacs:\n",
    "                writer.writerow( (con.name,con.phone,con.email) )\n",
    "        print('Modificaciones guardadas')\n",
    "\n",
    "\n"
   ]
  },
  {
   "cell_type": "code",
   "execution_count": 29,
   "metadata": {},
   "outputs": [],
   "source": [
    "def run():\n",
    "    contact_book = ContactBook()\n",
    "    with open('contacts.csv', 'r') as f:\n",
    "        reader = csv.reader(f)\n",
    "        for idx, row in enumerate(reader):\n",
    "            if idx == 0:\n",
    "                continue\n",
    "            if row == []:\n",
    "                continue    \n",
    "            contact_book.add(row[0],row[1], row[2])\n",
    "    while True:\n",
    "        command = str(input('''\n",
    "            ¿Qué deseas hacer?\n",
    "\n",
    "            [a]ñadir contacto\n",
    "            [ac]tualizar contacto\n",
    "            [b]uscar contacto\n",
    "            [e]liminar contacto\n",
    "            [l]istar contactos\n",
    "            [s]alir\n",
    "        '''))\n",
    "\n",
    "        if command == 'a':\n",
    "            name = str(input('Escribe el nombre del contacto'))\n",
    "            phone = str(input('Escribe el telefono del contacto'))\n",
    "            email = str(input('Escribe el correo electronico del contacto'))\n",
    "\n",
    "            contact_book.add(name, phone, email)\n",
    "        elif command == 'ac':\n",
    "            cambio = str(input('Escribe el nombre del contacto que desea actualizar'))\n",
    "            contact_book.update(cambio)\n",
    "\n",
    "        elif command == 'b':\n",
    "            name = str(input('Escribe el nombre del contacto'))\n",
    "            contact_book.search(name)\n",
    "\n",
    "\n",
    "        elif command == 'e':\n",
    "            name = str(input('Escribe el nombre del contacto'))\n",
    "            contact_book.delete(name)\n",
    "            \n",
    "        elif command == 'l':\n",
    "            contact_book.show_all()\n",
    "\n",
    "        elif command == 's':\n",
    "            contact_book.save()\n",
    "            break\n",
    "        else:\n",
    "            print('Comando no encontrado.')\n"
   ]
  },
  {
   "cell_type": "code",
   "execution_count": 32,
   "metadata": {
    "tags": []
   },
   "outputs": [
    {
     "output_type": "stream",
     "name": "stdout",
     "text": "--- * --- * --- * --- * --- * --- * --- * ---\nNombre: a\nTeléfono: 111\nEmail: a@hotmail.com\n--- * --- * --- * --- * --- * --- * --- * ---\n--- * --- * --- * --- * --- * --- * --- * ---\nNombre: b\nTeléfono: 222\nEmail: b@hot.com\n--- * --- * --- * --- * --- * --- * --- * ---\nModificaciones guardadas\n"
    }
   ],
   "source": [
    "run()"
   ]
  },
  {
   "cell_type": "code",
   "execution_count": null,
   "metadata": {},
   "outputs": [],
   "source": []
  }
 ]
}