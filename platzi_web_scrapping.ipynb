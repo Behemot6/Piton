{
 "metadata": {
  "language_info": {
   "codemirror_mode": {
    "name": "ipython",
    "version": 3
   },
   "file_extension": ".py",
   "mimetype": "text/x-python",
   "name": "python",
   "nbconvert_exporter": "python",
   "pygments_lexer": "ipython3",
   "version": "3.7.4-final"
  },
  "orig_nbformat": 2,
  "kernelspec": {
   "name": "python3",
   "display_name": "Python 3"
  }
 },
 "nbformat": 4,
 "nbformat_minor": 2,
 "cells": [
  {
   "cell_type": "code",
   "execution_count": 1,
   "metadata": {},
   "outputs": [],
   "source": [
    "import requests\n",
    "from bs4 import BeautifulSoup\n",
    "import urllib"
   ]
  },
  {
   "cell_type": "code",
   "execution_count": 2,
   "metadata": {},
   "outputs": [],
   "source": [
    "import urllib.request"
   ]
  },
  {
   "cell_type": "code",
   "execution_count": 7,
   "metadata": {},
   "outputs": [],
   "source": [
    "def run ():\n",
    "    for i in range(1,6):\n",
    "        response = requests.get('https://xkcd.com/{}'.format(i))\n",
    "        soup = BeautifulSoup(response.content, 'html.parser') #Que hay que parsear? un html\n",
    "        image_container = soup.find(id='comic')\n",
    "        image_url = image_container.find('img')['src']\n",
    "        image_name = image_url.split('/')[-1]\n",
    "        print('Descargando imagen...')\n",
    "        urllib.request.urlretrieve('https:{}'.format(image_url), image_name)\n"
   ]
  },
  {
   "cell_type": "code",
   "execution_count": 8,
   "metadata": {
    "tags": []
   },
   "outputs": [
    {
     "output_type": "stream",
     "name": "stdout",
     "text": "Descargando imagen...\nDescargando imagen...\nDescargando imagen...\nDescargando imagen...\nDescargando imagen...\n"
    }
   ],
   "source": [
    "run()"
   ]
  },
  {
   "cell_type": "code",
   "execution_count": null,
   "metadata": {},
   "outputs": [],
   "source": []
  }
 ]
}