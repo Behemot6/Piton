{
 "metadata": {
  "language_info": {
   "codemirror_mode": {
    "name": "ipython",
    "version": 3
   },
   "file_extension": ".py",
   "mimetype": "text/x-python",
   "name": "python",
   "nbconvert_exporter": "python",
   "pygments_lexer": "ipython3",
   "version": "3.7.4-final"
  },
  "orig_nbformat": 2,
  "kernelspec": {
   "name": "python3",
   "display_name": "Python 3"
  }
 },
 "nbformat": 4,
 "nbformat_minor": 2,
 "cells": [
  {
   "cell_type": "code",
   "execution_count": 3,
   "metadata": {},
   "outputs": [],
   "source": [
    "class Lamp:\n",
    "    _LAMPS = ['''\n",
    "          .\n",
    "     .    |    ,\n",
    "      \\   '   /\n",
    "       ` ,-. '\n",
    "    --- (o o) ---\n",
    "         \\O/\n",
    "        _|=|_\n",
    "       |_____|\n",
    "    ''',\n",
    "    '''\n",
    "         ,-.\n",
    "        (- -)\n",
    "         \\*/\n",
    "        _|=|_\n",
    "       |_____|\n",
    "    '''] # Esta es una variable, empiezan siempre con guion bajo y es para todas las clases de lamparas\n",
    "    def __init__(self,is_turned_on):#self es un parametro, es el objeto de que trata la clase\n",
    "        self._is_turned_on = is_turned_on #_is_turned_on es una variable de instancia, especifica para cada lampara\n",
    "    def turn_on(self): #turn_on es un metodo\n",
    "        self._is_turned_on = True\n",
    "        self._display_image()\n",
    "    def turn_off(self):\n",
    "        self._is_turned_on = False\n",
    "        self._display_image()\n",
    "    def _display_image(self):\n",
    "        if self._is_turned_on:\n",
    "            print(self._LAMPS[0])\n",
    "        else:\n",
    "            print(self._LAMPS[1])\n"
   ]
  },
  {
   "cell_type": "code",
   "execution_count": 2,
   "metadata": {
    "tags": []
   },
   "outputs": [],
   "source": []
  },
  {
   "cell_type": "code",
   "execution_count": null,
   "metadata": {},
   "outputs": [],
   "source": []
  }
 ]
}