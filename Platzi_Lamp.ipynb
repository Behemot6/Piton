{
 "metadata": {
  "language_info": {
   "codemirror_mode": {
    "name": "ipython",
    "version": 3
   },
   "file_extension": ".py",
   "mimetype": "text/x-python",
   "name": "python",
   "nbconvert_exporter": "python",
   "pygments_lexer": "ipython3",
   "version": "3.7.4-final"
  },
  "orig_nbformat": 2,
  "kernelspec": {
   "name": "python3",
   "display_name": "Python 3"
  }
 },
 "nbformat": 4,
 "nbformat_minor": 2,
 "cells": [
  {
   "cell_type": "code",
   "execution_count": 3,
   "metadata": {},
   "outputs": [],
   "source": [
    "class Lamp:\n",
    "    _LAMPS = ['''\n",
    "          .\n",
    "     .    |    ,\n",
    "      \\   '   /\n",
    "       ` ,-. '\n",
    "    --- (o o) ---\n",
    "         \\O/\n",
    "        _|=|_\n",
    "       |_____|\n",
    "    ''',\n",
    "    '''\n",
    "         ,-.\n",
    "        (- -)\n",
    "         \\*/\n",
    "        _|=|_\n",
    "       |_____|\n",
    "    '''] # Esta es una variable, empiezan siempre con guion bajo y es para todas las clases de lamparas\n",
    "    def __init__(self,is_turned_on):#self es un parametro, es el objeto de que trata la clase\n",
    "        self._is_turned_on = is_turned_on #_is_turned_on es una variable de instancia, especifica para cada lampara\n",
    "    def turn_on(self): #turn_on es un metodo\n",
    "        self._is_turned_on = True\n",
    "        self._display_image()\n",
    "    def turn_off(self):\n",
    "        self._is_turned_on = False\n",
    "        self._display_image()\n",
    "    def _display_image(self):\n",
    "        if self._is_turned_on:\n",
    "            print(self._LAMPS[0])\n",
    "        else:\n",
    "            print(self._LAMPS[1])\n"
   ]
  },
  {
   "cell_type": "code",
   "execution_count": 6,
   "metadata": {},
   "outputs": [],
   "source": [
    "def run():\n",
    "    lamp = Lamp(is_turned_on = True)\n",
    "\n",
    "    while True:\n",
    "        command = input('''\n",
    "            Escribe que quieres hacer:\n",
    "            [e]ncender\n",
    "            [a]pagar\n",
    "            [c]onsultar\n",
    "            [s]alir\"\n",
    "        ''')\n",
    "        \n",
    "            \n",
    "        if command == 'e':\n",
    "            lamp.turn_on()\n",
    "        elif command == 'a':\n",
    "            lamp.turn_off()\n",
    "        elif command == 'c':\n",
    "            lamp._display_image\n",
    "        elif command == 's':\n",
    "            break\n",
    "        "
   ]
  },
  {
   "cell_type": "code",
   "execution_count": 7,
   "metadata": {
    "tags": []
   },
   "outputs": [
    {
     "output_type": "stream",
     "name": "stdout",
     "text": "\n          .\n     .    |    ,\n      \\   '   /\n       ` ,-. '\n    --- (o o) ---\n         \\O/\n        _|=|_\n       |_____|\n    \n"
    }
   ],
   "source": [
    "run()"
   ]
  },
  {
   "cell_type": "code",
   "execution_count": null,
   "metadata": {},
   "outputs": [],
   "source": []
  },
  {
   "cell_type": "code",
   "execution_count": null,
   "metadata": {},
   "outputs": [],
   "source": []
  }
 ]
}